{
 "cells": [
  {
   "cell_type": "code",
   "execution_count": null,
   "id": "a3190eae-8d61-4c84-91ec-c901ad608128",
   "metadata": {
    "tags": []
   },
   "outputs": [],
   "source": [
    "import os\n",
    "os.environ['CUDA_VISIBLE_DEVICES'] = '-1'\n",
    "\n",
    "import numpy as np\n",
    "import pandas as pd\n",
    "import tensorflow as tf\n",
    "import matplotlib.pyplot as plt\n",
    "# %matplotlib widget\n",
    "%matplotlib inline\n",
    "import matplotlib.font_manager as fm"
   ]
  },
  {
   "cell_type": "code",
   "execution_count": null,
   "id": "c5e3dbd5-397c-4789-b366-8bf1d3a80314",
   "metadata": {
    "tags": []
   },
   "outputs": [],
   "source": [
    "# 시각화 한글 설정\n",
    "fonts = fm.findSystemFonts()\n",
    "nanum_path = None\n",
    "for font in fonts:\n",
    "    if font.endswith('NanumGothic.ttf'):\n",
    "        nanum_path = font\n",
    "        break\n",
    "if nanum_path == None:\n",
    "    print(f'나눔 폰트를 설치해야 합니다!')\n",
    "    print(f'!apt install -qq -y fonts-nanum*')\n",
    "else:\n",
    "    print(f'나눔 폰트 경로: {nanum_path}')\n",
    "    nanum_prop = fm.FontProperties(fname=nanum_path)"
   ]
  },
  {
   "cell_type": "code",
   "execution_count": null,
   "id": "00f58278-eefe-42cd-a267-b860d150f26e",
   "metadata": {
    "tags": []
   },
   "outputs": [],
   "source": [
    "# https://www.tensorflow.org/api_docs/python/tf/keras/datasets/cifar10\n",
    "(train_images, train_labels), (test_images, test_labels) = tf.keras.datasets.cifar10.load_data()\n",
    "images = np.concatenate((train_images, test_images))\n",
    "labels = np.concatenate((train_labels, test_labels))\n",
    "print(f'학습에 사용할 이미지는 {len(train_images):,}개 입니다.')\n",
    "print(f'학습한 후 테스트(검증)에 사용할 이미지는 {len(test_images):,}개 입니다.')"
   ]
  },
  {
   "cell_type": "code",
   "execution_count": null,
   "id": "abd05ce2-46a2-48d0-8c77-b8075a94f9a8",
   "metadata": {
    "tags": []
   },
   "outputs": [],
   "source": [
    "# https://www.tensorflow.org/api_docs/python/tf/keras/datasets/cifar10/load_data\n",
    "# labelnames = ['Airplane', 'Automobile', 'Bird', 'Cat', 'Deer', 'Dog', 'Frog', 'Horse', 'Ship', 'Truck']\n",
    "labelnames = ['비행기', '자동차', '새', '고양이', '사슴',\n",
    "              '개', '개구리', '말', '배', '트럭']\n",
    "print(f'데이터의 레이블은 {len(labelnames)}개 이며, 데이터셋에 포함되어 있지 않으므로 설명서에서 확인해야 합니다.')\n",
    "print('레이블 번호와 레이블: ')\n",
    "for i in range(0, len(labelnames)):\n",
    "    print(f'{i}: {labelnames[i]}')"
   ]
  },
  {
   "cell_type": "code",
   "execution_count": null,
   "id": "59dc9032-2f8c-4b77-a97f-b6e57279f6e8",
   "metadata": {
    "tags": []
   },
   "outputs": [],
   "source": [
    "print(f'학습 이미지 형태: {train_images.shape}')\n",
    "print(f'학습 레이블 형태: {train_labels.shape}')"
   ]
  },
  {
   "cell_type": "code",
   "execution_count": null,
   "id": "c278ff8c-7c57-4cb5-9a16-ce4731dcf3f5",
   "metadata": {
    "tags": []
   },
   "outputs": [],
   "source": [
    "print(f'테스트 이미지 형태: {test_images.shape}')\n",
    "print(f'테스트 레이블 형태: {test_labels.shape}')"
   ]
  },
  {
   "cell_type": "code",
   "execution_count": null,
   "id": "2788e4c9-fab4-4493-aae2-67fc176375be",
   "metadata": {
    "tags": []
   },
   "outputs": [],
   "source": [
    "fig = plt.figure(figsize=(6, 6))\n",
    "ax = fig.add_subplot()\n",
    "axm = ax.imshow(train_images[0])\n",
    "fig.colorbar(axm)\n",
    "fig.suptitle('학습용 예제 이미지', fontproperties=nanum_prop, fontsize=24)\n",
    "ax.set_title(f'레이블: {labelnames[train_labels[0][0]]}', fontproperties=nanum_prop, fontsize=16)\n",
    "ax.grid(False)"
   ]
  },
  {
   "cell_type": "code",
   "execution_count": null,
   "id": "fb36c42c-324f-4627-a1a9-078f63d70a7a",
   "metadata": {
    "tags": []
   },
   "outputs": [],
   "source": [
    "print('인공 신경망은 주로 -1.0 ~ 1.0 사이의 값을 받습니다.')\n",
    "print('따라서 이미지를 255로 나누어줍니다.')\n",
    "train_images = train_images / 255.0\n",
    "test_images = test_images / 255.0"
   ]
  },
  {
   "cell_type": "code",
   "execution_count": null,
   "id": "4d76d1c9-1840-4f53-8653-47deb0ac16eb",
   "metadata": {
    "tags": []
   },
   "outputs": [],
   "source": [
    "fig = plt.figure(figsize=(6, 6))\n",
    "ax = fig.add_subplot()\n",
    "axm = ax.imshow(train_images[0])\n",
    "fig.colorbar(axm)\n",
    "fig.suptitle('학습용 예제 이미지', fontproperties=nanum_prop, fontsize=24)\n",
    "ax.set_title(f'레이블: {labelnames[train_labels[0][0]]}', fontproperties=nanum_prop, fontsize=16)\n",
    "ax.grid(False)"
   ]
  },
  {
   "cell_type": "code",
   "execution_count": null,
   "id": "68ad498a-e103-4329-a82f-05c1f9536081",
   "metadata": {
    "tags": []
   },
   "outputs": [],
   "source": [
    "fig = plt.figure(figsize=(12, 12/5*2))\n",
    "fig.set_facecolor('white')\n",
    "for i in range(10):\n",
    "    ax = fig.add_subplot(2, 5, i+1)\n",
    "    for j in range(10000, len(train_images)):\n",
    "        if train_labels[j] == i:\n",
    "            break\n",
    "    ax.imshow(train_images[j], cmap=plt.cm.binary)\n",
    "    ax.set_xticks([])\n",
    "    ax.set_yticks([])\n",
    "    ax.set_title(f'[{train_labels[j][0]}] {labelnames[train_labels[j][0]]}', \n",
    "                 fontproperties=nanum_prop, fontsize=12)"
   ]
  },
  {
   "cell_type": "code",
   "execution_count": null,
   "id": "d4c48e06-b512-4bda-803a-39cc20d7249f",
   "metadata": {
    "tags": []
   },
   "outputs": [],
   "source": [
    "print('모델 생성')\n",
    "model = tf.keras.Sequential()\n",
    "model.add(tf.keras.layers.Conv2D(32, (3, 3), activation='relu', padding='same', input_shape=(train_images.shape[1:])))\n",
    "model.add(tf.keras.layers.Conv2D(32, (3, 3), activation='relu', padding='same'))\n",
    "model.add(tf.keras.layers.MaxPooling2D((2, 2), strides=(1, 1), padding='same'))\n",
    "model.add(tf.keras.layers.Dropout(0.2))\n",
    "model.add(tf.keras.layers.Conv2D(32, (3, 3), activation='relu', padding='same'))\n",
    "model.add(tf.keras.layers.Conv2D(32, (3, 3), activation='relu', padding='same'))\n",
    "model.add(tf.keras.layers.MaxPooling2D((2, 2), strides=(1, 1), padding='same'))\n",
    "model.add(tf.keras.layers.Dropout(0.2))\n",
    "model.add(tf.keras.layers.Conv2D(32, (3, 3), activation='relu', padding='same'))\n",
    "model.add(tf.keras.layers.Conv2D(32, (3, 3), activation='relu', padding='same'))\n",
    "model.add(tf.keras.layers.MaxPooling2D((2, 2), strides=(1, 1), padding='same'))\n",
    "model.add(tf.keras.layers.Dropout(0.2))\n",
    "model.add(tf.keras.layers.Flatten())\n",
    "model.add(tf.keras.layers.Dense(10, activation='softmax'))\n",
    "model.summary()"
   ]
  },
  {
   "cell_type": "code",
   "execution_count": null,
   "id": "35300849-7a04-4fa0-8260-c8fbe588f12c",
   "metadata": {
    "tags": []
   },
   "outputs": [],
   "source": [
    "print('모델 컴파일')\n",
    "model.compile(optimizer=tf.keras.optimizers.SGD(learning_rate=0.001, momentum=0.9),\n",
    "              # optimizer=tf.keras.optimizers.Adam(),\n",
    "              loss=tf.keras.losses.SparseCategoricalCrossentropy(from_logits=False),\n",
    "              metrics=['accuracy'])"
   ]
  },
  {
   "cell_type": "code",
   "execution_count": null,
   "id": "8e7d5225-2065-4653-9b30-c193bc070310",
   "metadata": {
    "tags": []
   },
   "outputs": [],
   "source": [
    "history = {}\n",
    "callback = tf.keras.callbacks.EarlyStopping(monitor='val_loss', patience=10)"
   ]
  },
  {
   "cell_type": "code",
   "execution_count": null,
   "id": "565368b8-1983-49c8-8920-3eb56724ba70",
   "metadata": {
    "tags": []
   },
   "outputs": [],
   "source": [
    "epochs = 300\n",
    "results = model.fit(train_images, train_labels, \n",
    "                    validation_data=(test_images, test_labels),\n",
    "                    # callbacks=[callback],\n",
    "                    epochs=epochs, verbose='auto')\n",
    "tmp = history.get('loss', [])\n",
    "for loss in results.history['loss']:\n",
    "    tmp.append(loss)\n",
    "history['loss'] = tmp\n",
    "tmp = history.get('accuracy', [])\n",
    "for accuracy in results.history['accuracy']:\n",
    "    tmp.append(accuracy)\n",
    "history['accuracy'] = tmp\n",
    "tmp = history.get('val_loss', [])\n",
    "for loss in results.history['val_loss']:\n",
    "    tmp.append(loss)\n",
    "history['val_loss'] = tmp\n",
    "tmp = history.get('val_accuracy', [])\n",
    "for accuracy in results.history['val_accuracy']:\n",
    "    tmp.append(accuracy)\n",
    "history['val_accuracy'] = tmp"
   ]
  },
  {
   "cell_type": "code",
   "execution_count": null,
   "id": "b0bca537-0805-44ce-a6ad-4beaba842c53",
   "metadata": {},
   "outputs": [],
   "source": [
    "x = range(1, len(history['val_accuracy'])+1)\n",
    "y = history['val_accuracy']"
   ]
  },
  {
   "cell_type": "code",
   "execution_count": null,
   "id": "88f0cb87-f5b5-4860-ba85-e82457cc9f3a",
   "metadata": {},
   "outputs": [],
   "source": [
    "fig = plt.figure(figsize=(8*1, 6*1))\n",
    "fig.set_facecolor('white')\n",
    "ax = fig.add_subplot()\n",
    "ax.plot(x, y, color='blue')\n",
    "ax.set_ylim((0, 1))\n",
    "ax.tick_params(axis='both', labelsize='large')\n",
    "ax.set_xlabel('Rounds', fontsize='x-large')\n",
    "ax.set_ylabel('Accuracy', fontsize='x-large')"
   ]
  },
  {
   "cell_type": "code",
   "execution_count": null,
   "id": "299dbacf-be51-4426-a890-0d5dc3e50195",
   "metadata": {},
   "outputs": [],
   "source": []
  }
 ],
 "metadata": {
  "kernelspec": {
   "display_name": "FLHub",
   "language": "python",
   "name": "flhub"
  },
  "language_info": {
   "codemirror_mode": {
    "name": "ipython",
    "version": 3
   },
   "file_extension": ".py",
   "mimetype": "text/x-python",
   "name": "python",
   "nbconvert_exporter": "python",
   "pygments_lexer": "ipython3",
   "version": "3.11.2"
  }
 },
 "nbformat": 4,
 "nbformat_minor": 5
}
