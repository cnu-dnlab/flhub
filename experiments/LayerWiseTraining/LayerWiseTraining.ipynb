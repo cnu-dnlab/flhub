{
 "cells": [
  {
   "cell_type": "code",
   "execution_count": null,
   "id": "31438ac7-3f66-45f5-9f71-4fc3448344aa",
   "metadata": {},
   "outputs": [],
   "source": [
    "import numpy as np\n",
    "import pandas as pd\n",
    "import tensorflow as tf\n",
    "import matplotlib.pyplot as plt\n",
    "# %matplotlib widget\n",
    "%matplotlib inline\n",
    "import matplotlib.font_manager as fm"
   ]
  },
  {
   "cell_type": "code",
   "execution_count": null,
   "id": "6e3ab2f3-d220-49c6-971c-87e70b1a307f",
   "metadata": {},
   "outputs": [],
   "source": [
    "# 시각화 한글 설정\n",
    "fonts = fm.findSystemFonts()\n",
    "nanum_path = None\n",
    "for font in fonts:\n",
    "    if font.endswith('NanumGothic.ttf'):\n",
    "        nanum_path = font\n",
    "        break\n",
    "if nanum_path == None:\n",
    "    print(f'나눔 폰트를 설치해야 합니다!')\n",
    "    print(f'!apt install -qq -y fonts-nanum*')\n",
    "else:\n",
    "    print(f'나눔 폰트 경로: {nanum_path}')\n",
    "    nanum_prop = fm.FontProperties(fname=nanum_path)"
   ]
  }
 ],
 "metadata": {
  "kernelspec": {
   "display_name": "FLHub",
   "language": "python",
   "name": "flhub"
  },
  "language_info": {
   "codemirror_mode": {
    "name": "ipython",
    "version": 3
   },
   "file_extension": ".py",
   "mimetype": "text/x-python",
   "name": "python",
   "nbconvert_exporter": "python",
   "pygments_lexer": "ipython3",
   "version": "3.11.2"
  }
 },
 "nbformat": 4,
 "nbformat_minor": 5
}
