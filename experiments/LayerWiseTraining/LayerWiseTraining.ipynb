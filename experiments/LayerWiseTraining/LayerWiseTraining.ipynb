{
 "cells": [
  {
   "cell_type": "code",
   "execution_count": null,
   "id": "31438ac7-3f66-45f5-9f71-4fc3448344aa",
   "metadata": {},
   "outputs": [],
   "source": [
    "import numpy as np\n",
    "import pandas as pd\n",
    "import tensorflow as tf\n",
    "import matplotlib.pyplot as plt\n",
    "# %matplotlib widget\n",
    "%matplotlib inline\n",
    "import matplotlib.font_manager as fm"
   ]
  },
  {
   "cell_type": "code",
   "execution_count": null,
   "id": "6e3ab2f3-d220-49c6-971c-87e70b1a307f",
   "metadata": {},
   "outputs": [],
   "source": [
    "# 시각화 한글 설정\n",
    "fonts = fm.findSystemFonts()\n",
    "nanum_path = None\n",
    "for font in fonts:\n",
    "    if font.endswith('NanumGothic.ttf'):\n",
    "        nanum_path = font\n",
    "        break\n",
    "if nanum_path == None:\n",
    "    print(f'나눔 폰트를 설치해야 합니다!')\n",
    "    print(f'!apt install -qq -y fonts-nanum*')\n",
    "else:\n",
    "    print(f'나눔 폰트 경로: {nanum_path}')\n",
    "    nanum_prop = fm.FontProperties(fname=nanum_path)"
   ]
  },
  {
   "cell_type": "code",
   "execution_count": null,
   "id": "9c503995-afa9-4f2c-b9a7-6904c699dd1a",
   "metadata": {},
   "outputs": [],
   "source": [
    "# https://www.tensorflow.org/api_docs/python/tf/keras/datasets/cifar10\n",
    "(train_images, train_labels), (test_images, test_labels) = tf.keras.datasets.cifar10.load_data()\n",
    "images = np.concatenate((train_images, test_images))\n",
    "labels = np.concatenate((train_labels, test_labels))\n",
    "print(f'학습에 사용할 이미지는 {len(train_images):,}개 입니다.')\n",
    "print(f'학습한 후 테스트(검증)에 사용할 이미지는 {len(test_images):,}개 입니다.')"
   ]
  },
  {
   "cell_type": "code",
   "execution_count": null,
   "id": "3255537b-e57c-4395-9020-0a904960af32",
   "metadata": {},
   "outputs": [],
   "source": [
    "# https://www.tensorflow.org/api_docs/python/tf/keras/datasets/cifar10/load_data\n",
    "# labelnames = ['Airplane', 'Automobile', 'Bird', 'Cat', 'Deer', 'Dog', 'Frog', 'Horse', 'Ship', 'Truck']\n",
    "labelnames = ['비행기', '자동차', '새', '고양이', '사슴',\n",
    "              '개', '개구리', '말', '배', '트럭']\n",
    "print(f'데이터의 레이블은 {len(labelnames)}개 이며, 데이터셋에 포함되어 있지 않으므로 설명서에서 확인해야 합니다.')\n",
    "print('레이블 번호와 레이블: ')\n",
    "for i in range(0, len(labelnames)):\n",
    "    print(f'{i}: {labelnames[i]}')"
   ]
  },
  {
   "cell_type": "code",
   "execution_count": null,
   "id": "dc98c70e-00f4-499e-b4bc-a60c93918662",
   "metadata": {},
   "outputs": [],
   "source": [
    "print(f'학습 이미지 형태: {train_images.shape}')\n",
    "print(f'학습 레이블 형태: {train_labels.shape}')"
   ]
  },
  {
   "cell_type": "code",
   "execution_count": null,
   "id": "983f258f-94e2-473d-9041-958ef519dec7",
   "metadata": {},
   "outputs": [],
   "source": [
    "print(f'테스트 이미지 형태: {test_images.shape}')\n",
    "print(f'테스트 레이블 형태: {test_labels.shape}')"
   ]
  },
  {
   "cell_type": "code",
   "execution_count": null,
   "id": "e079c562-10bf-4015-b14c-e33ee2bd603a",
   "metadata": {},
   "outputs": [],
   "source": [
    "fig = plt.figure(figsize=(6, 6))\n",
    "ax = fig.add_subplot()\n",
    "axm = ax.imshow(train_images[0])\n",
    "fig.colorbar(axm)\n",
    "fig.suptitle('학습용 예제 이미지', fontproperties=nanum_prop, fontsize=24)\n",
    "ax.set_title(f'레이블: {labelnames[train_labels[0][0]]}', fontproperties=nanum_prop, fontsize=16)\n",
    "ax.grid(False)"
   ]
  },
  {
   "cell_type": "code",
   "execution_count": null,
   "id": "5871e388-c1e4-48a1-a60b-90deb729d2f4",
   "metadata": {},
   "outputs": [],
   "source": [
    "print('인공 신경망은 주로 -1.0 ~ 1.0 사이의 값을 받습니다.')\n",
    "print('따라서 이미지를 255로 나누어줍니다.')\n",
    "train_images = train_images / 255.0\n",
    "test_images = test_images / 255.0"
   ]
  },
  {
   "cell_type": "code",
   "execution_count": null,
   "id": "966a313f-46ab-4c71-b393-4c44575dd7a2",
   "metadata": {},
   "outputs": [],
   "source": [
    "fig = plt.figure(figsize=(6, 6))\n",
    "ax = fig.add_subplot()\n",
    "axm = ax.imshow(train_images[0])\n",
    "fig.colorbar(axm)\n",
    "fig.suptitle('학습용 예제 이미지', fontproperties=nanum_prop, fontsize=24)\n",
    "ax.set_title(f'레이블: {labelnames[train_labels[0][0]]}', fontproperties=nanum_prop, fontsize=16)\n",
    "ax.grid(False)"
   ]
  }
 ],
 "metadata": {
  "kernelspec": {
   "display_name": "FLHub",
   "language": "python",
   "name": "flhub"
  },
  "language_info": {
   "codemirror_mode": {
    "name": "ipython",
    "version": 3
   },
   "file_extension": ".py",
   "mimetype": "text/x-python",
   "name": "python",
   "nbconvert_exporter": "python",
   "pygments_lexer": "ipython3",
   "version": "3.11.2"
  }
 },
 "nbformat": 4,
 "nbformat_minor": 5
}
